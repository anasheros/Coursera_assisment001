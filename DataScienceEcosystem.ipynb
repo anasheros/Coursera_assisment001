{
 "cells": [
  {
   "cell_type": "markdown",
   "id": "7ea08903",
   "metadata": {},
   "source": [
    "# Data Science Tools and Ecosystem"
   ]
  },
  {
   "cell_type": "markdown",
   "id": "72024093",
   "metadata": {},
   "source": [
    "In this notebook, Data Science Tools and Ecosystem are summariezed "
   ]
  },
  {
   "cell_type": "markdown",
   "id": "576862a3",
   "metadata": {},
   "source": [
    "Some of the key takeaways from the cours \n",
    "\n",
    "**Objectives**\n",
    "* List of popular languges for Data Science\n",
    "* Commonly used librairies \n",
    "* Data Science Tools \n",
    "* Arithmitic expression \n"
   ]
  },
  {
   "cell_type": "markdown",
   "id": "39782c36",
   "metadata": {},
   "source": [
    "Some of the popular languages that Data Scientists use are  :\n",
    "1. Python\n",
    "2. R\n",
    "3. JAVA"
   ]
  },
  {
   "cell_type": "markdown",
   "id": "1fc23319",
   "metadata": {},
   "source": [
    "Some of the commonly used libraries by Scientist include :\n",
    "1. TensorFlow\n",
    "2. Pytorch \n",
    "3. MXNet"
   ]
  },
  {
   "cell_type": "markdown",
   "id": "9af182eb",
   "metadata": {},
   "source": [
    "| Data Science Tools |\n",
    "|--------------------|\n",
    "| RStudio |\n",
    "| Vs Studio Code |\n",
    "| Jupyter Notebook |"
   ]
  },
  {
   "cell_type": "markdown",
   "id": "afe38208",
   "metadata": {},
   "source": [
    "### Below are a few examples of evaluating arithmetic expressions in python "
   ]
  },
  {
   "cell_type": "code",
   "execution_count": 1,
   "id": "6469fc1d",
   "metadata": {},
   "outputs": [
    {
     "data": {
      "text/plain": [
       "17"
      ]
     },
     "execution_count": 1,
     "metadata": {},
     "output_type": "execute_result"
    }
   ],
   "source": [
    "# This a simple arithmetic expression to multiply then add integers\n",
    "(3*4)+5"
   ]
  },
  {
   "cell_type": "code",
   "execution_count": 12,
   "id": "e5354899",
   "metadata": {},
   "outputs": [
    {
     "name": "stdout",
     "output_type": "stream",
     "text": [
      "minutes :  200\n",
      "houres :  3.3333333333333335\n"
     ]
    }
   ],
   "source": [
    "# This will convert 200 minutes to hours by dividing by 60\n",
    "minutes  = 200\n",
    "hours = minute / 60\n",
    "print(\"minutes : \" , minutes)\n",
    "print(\"houres : \" , hours)"
   ]
  },
  {
   "cell_type": "markdown",
   "id": "7fab4c34",
   "metadata": {},
   "source": [
    "## Author\n",
    "Anas BELAYDI"
   ]
  },
  {
   "cell_type": "code",
   "execution_count": null,
   "id": "c6dc35c3",
   "metadata": {},
   "outputs": [],
   "source": []
  }
 ],
 "metadata": {
  "kernelspec": {
   "display_name": "Python 3",
   "language": "python",
   "name": "python3"
  },
  "language_info": {
   "codemirror_mode": {
    "name": "ipython",
    "version": 3
   },
   "file_extension": ".py",
   "mimetype": "text/x-python",
   "name": "python",
   "nbconvert_exporter": "python",
   "pygments_lexer": "ipython3",
   "version": "3.8.8"
  }
 },
 "nbformat": 4,
 "nbformat_minor": 5
}
